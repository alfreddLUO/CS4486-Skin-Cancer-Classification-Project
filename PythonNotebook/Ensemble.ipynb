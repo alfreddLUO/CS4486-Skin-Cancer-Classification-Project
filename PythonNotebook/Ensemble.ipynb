{
 "cells": [
  {
   "cell_type": "code",
   "execution_count": null,
   "id": "d1471b6b-076e-41f1-ba4e-29f3b79443b4",
   "metadata": {},
   "outputs": [],
   "source": [
    "import pickle"
   ]
  },
  {
   "cell_type": "code",
   "execution_count": null,
   "id": "2395bf81-09a7-4d4e-b59f-b182d9c02444",
   "metadata": {},
   "outputs": [],
   "source": [
    "actual=[]\n",
    "for i in range(1,9,1):\n",
    "    actual=actual+[i]*100"
   ]
  },
  {
   "cell_type": "code",
   "execution_count": null,
   "id": "8ad460ac-9c03-4bdf-b02b-4ba038de5046",
   "metadata": {},
   "outputs": [],
   "source": [
    " with open('5-Block-CNN_Boosting_SEED_0.pkl', 'rb') as f:\n",
    "        predict1 = pickle.load(f)"
   ]
  },
  {
   "cell_type": "code",
   "execution_count": null,
   "id": "1c49f39f-b141-4392-aac6-79842892ed90",
   "metadata": {},
   "outputs": [],
   "source": [
    " with open('5-Block-CNN_Boosting_SEED_1.pkl', 'rb') as f:\n",
    "        predict2 = pickle.load(f)"
   ]
  },
  {
   "cell_type": "code",
   "execution_count": null,
   "id": "238a2742-850a-4fc7-a3e0-9e135c6758ee",
   "metadata": {},
   "outputs": [],
   "source": [
    " with open('5-Block-CNN_Boosting_SEED_0.pkl', 'rb') as f:\n",
    "        predict3 = pickle.load(f)"
   ]
  },
  {
   "cell_type": "code",
   "execution_count": null,
   "id": "3de79788-1cd0-4ab7-a84c-cf416a86f27e",
   "metadata": {},
   "outputs": [],
   "source": [
    " with open('5-Block-CNN_Boosting_SEED_0.pkl', 'rb') as f:\n",
    "        predict4 = pickle.load(f)"
   ]
  },
  {
   "cell_type": "code",
   "execution_count": null,
   "id": "ed2fa550-053b-47c5-b033-235d9ce09f83",
   "metadata": {},
   "outputs": [],
   "source": [
    " with open('5-Block-CNN_Boosting_SEED_0.pkl', 'rb') as f:\n",
    "        predict5 = pickle.load(f)"
   ]
  },
  {
   "cell_type": "code",
   "execution_count": null,
   "id": "08159286-f031-4929-9e54-f08b7d64bd21",
   "metadata": {},
   "outputs": [],
   "source": [
    "def most_frequent(List):\n",
    "    return max(set(List), key = List.count)"
   ]
  },
  {
   "cell_type": "code",
   "execution_count": null,
   "id": "678a32d2-e350-4592-b49a-f1749d98fd00",
   "metadata": {},
   "outputs": [],
   "source": [
    "new_predict=[]\n",
    "for j in range(len(predict5)):\n",
    "    temp=[]\n",
    "    temp.append(predict1[j])\n",
    "    temp.append(predict2[j])\n",
    "    temp.append(predict3[j])\n",
    "    temp.append(predict4[j])\n",
    "    temp.append(predict5[j])\n",
    "    new_predict.append(most_frequent(temp))"
   ]
  },
  {
   "cell_type": "code",
   "execution_count": null,
   "id": "b89cf5a3-1ba7-4211-b427-fab004821cb9",
   "metadata": {},
   "outputs": [],
   "source": [
    "acc=sum(1 for x,y in zip(new_predict,actual) if x == y) / len(actual)"
   ]
  },
  {
   "cell_type": "code",
   "execution_count": null,
   "id": "a4ac8ae6-4e45-460e-a355-ccb2e78a7fbc",
   "metadata": {},
   "outputs": [],
   "source": [
    "print(\"The test accuracy is\", acc)"
   ]
  }
 ],
 "metadata": {
  "kernelspec": {
   "display_name": "Python 3",
   "language": "python",
   "name": "python3"
  },
  "language_info": {
   "codemirror_mode": {
    "name": "ipython",
    "version": 3
   },
   "file_extension": ".py",
   "mimetype": "text/x-python",
   "name": "python",
   "nbconvert_exporter": "python",
   "pygments_lexer": "ipython3",
   "version": "3.8.8"
  }
 },
 "nbformat": 4,
 "nbformat_minor": 5
}
